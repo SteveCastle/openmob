{
 "cells": [
  {
   "cell_type": "code",
   "execution_count": 81,
   "metadata": {},
   "outputs": [],
   "source": [
    "import sqlparse\n",
    "with open('migrations/1_initial.sql', 'r') as myfile:\n",
    "  data = myfile.read()\n",
    "\n",
    "split_sql = sqlparse.split(data)"
   ]
  },
  {
   "cell_type": "code",
   "execution_count": 228,
   "metadata": {},
   "outputs": [],
   "source": [
    "tables = {}\n",
    "for statement in split_sql:\n",
    "    parsed = sqlparse.parse(statement)[0]\n",
    "    statement_type = parsed.get_type()\n",
    "    if statement_type == \"CREATE\":\n",
    "        current_table = \"\"\n",
    "        for token in parsed.tokens:\n",
    "            if type(token) is sqlparse.sql.Identifier:\n",
    "                current_table = token.value\n",
    "                tables[token.value] = []\n",
    "            if type(token) is sqlparse.sql.Parenthesis:\n",
    "                for field in token:\n",
    "                    if type(field) is sqlparse.sql.Identifier:\n",
    "                        tables[current_table].append(field.value)\n",
    "                    if type(field) is sqlparse.sql.IdentifierList:\n",
    "                        for subfield in field:\n",
    "                            if type(subfield) is sqlparse.sql.Identifier:\n",
    "                                field_name = subfield.value.split(\" \")[0]\n",
    "                                tables[current_table].append({field_name: {\"type\": \"\"}})"
   ]
  },
  {
   "cell_type": "code",
   "execution_count": 229,
   "metadata": {
    "scrolled": false
   },
   "outputs": [
    {
     "name": "stdout",
     "output_type": "stream",
     "text": [
      "Number of tables: 64\n",
      "{'cause': ['id', {'created_at': {'type': 'KEY,\\n    created_at TIMESTAMPTZ'}}, {'updated_at': {'type': 'NOW(),\\n    updated_at TIMESTAMPTZ'}}, {'title': {'type': 'NOW(),\\n    title'}}], 'account': ['id', {'created_at': {'type': 'KEY,\\n    created_at TIMESTAMPTZ'}}, {'updated_at': {'type': 'NOW(),\\n    updated_at TIMESTAMPTZ'}}, {'username': {'type': 'NOW(),\\n    username'}}], 'acl': ['id'], 'mailing_address': ['id', {'created_at': {'type': 'KEY,\\n    created_at TIMESTAMPTZ'}}, {'updated_at': {'type': 'NOW(),\\n    updated_at TIMESTAMPTZ'}}, {'street_address': {'type': 'NOW(),\\n    street_address'}}, {'city': {'type': 'NOT NULL,\\n    city'}}, {'state': {'type': 'NOT NULL,\\n    state'}}, {'zip_code': {'type': 'NOT NULL,\\n    zip_code'}}], 'phone_number': ['id', {'created_at': {'type': 'KEY,\\n    created_at TIMESTAMPTZ'}}, {'updated_at': {'type': 'NOW(),\\n    updated_at TIMESTAMPTZ'}}, {'phone_number': {'type': 'NOW(),\\n    phone_number'}}], 'email_address': ['id', {'created_at': {'type': 'KEY,\\n    created_at TIMESTAMPTZ'}}, {'updated_at': {'type': 'NOW(),\\n    updated_at TIMESTAMPTZ'}}, {'address': {'type': 'NOW(),\\n    address'}}], 'photo': ['id', {'created_at': {'type': 'KEY,\\n    created_at TIMESTAMPTZ'}}, {'updated_at': {'type': 'NOW(),\\n    updated_at TIMESTAMPTZ'}}, {'img_url': {'type': 'NOW(),\\n    img_url'}}], 'layout_type': ['id', {'created_at': {'type': 'KEY,\\n    created_at TIMESTAMPTZ'}}, {'updated_at': {'type': 'NOW(),\\n    updated_at TIMESTAMPTZ'}}, {'title': {'type': 'NOW(),\\n    title'}}], 'layout': ['id', {'created_at': {'type': 'KEY,\\n    created_at TIMESTAMPTZ'}}, {'updated_at': {'type': 'NOW(),\\n    updated_at TIMESTAMPTZ'}}, {'layout_type': {'type': 'NOW(),\\n    layout_type'}}], 'layout_row': ['id', {'created_at': {'type': 'KEY,\\n    created_at TIMESTAMPTZ'}}, {'updated_at': {'type': 'NOW(),\\n    updated_at TIMESTAMPTZ'}}, {'layout': {'type': 'NOW(),\\n    layout'}}], 'layout_column': ['id', {'created_at': {'type': 'KEY,\\n    created_at TIMESTAMPTZ'}}, {'updated_at': {'type': 'NOW(),\\n    updated_at TIMESTAMPTZ'}}, {'layout_row': {'type': 'NOW(),\\n    layout_row'}}], 'component_implementation': ['id', {'created_at': {'type': 'KEY,\\n    created_at TIMESTAMPTZ'}}, {'updated_at': {'type': 'NOW(),\\n    updated_at TIMESTAMPTZ'}}], 'component_type': ['id', {'created_at': {'type': 'KEY,\\n    created_at TIMESTAMPTZ'}}, {'updated_at': {'type': 'NOW(),\\n    updated_at TIMESTAMPTZ'}}, {'title': {'type': 'NOW(),\\n    title'}}], 'component': ['id', {'created_at': {'type': 'KEY,\\n    created_at TIMESTAMPTZ'}}, {'updated_at': {'type': 'NOW(),\\n    updated_at TIMESTAMPTZ'}}, {'component_type': {'type': 'NOW(),\\n    component_type'}}, {'layout_column': {'type': 'NOT NULL,\\n    layout_column'}}], 'field_type': ['id', {'created_at': {'type': 'KEY,\\n    created_at TIMESTAMPTZ'}}, {'updated_at': {'type': 'NOW(),\\n    updated_at TIMESTAMPTZ'}}, {'title': {'type': 'NOW(),\\n    title'}}], 'field': ['id', {'created_at': {'type': 'KEY,\\n    created_at TIMESTAMPTZ'}}, {'updated_at': {'type': 'NOW(),\\n    updated_at TIMESTAMPTZ'}}, {'field_type': {'type': 'NOW(),\\n    field_type'}}, {'component': {'type': 'NOT NULL,\\n    component'}}], 'landing_page': ['id', {'created_at': {'type': 'KEY,\\n    created_at TIMESTAMPTZ'}}, {'updated_at': {'type': 'NOW(),\\n    updated_at TIMESTAMPTZ'}}, {'title': {'type': 'NOW(),\\n    title'}}, {'layout': {'type': 'NOT NULL,\\n    layout'}}], 'experiment': ['id', {'created_at': {'type': 'KEY,\\n    created_at TIMESTAMPTZ'}}, {'updated_at': {'type': 'NOW(),\\n    updated_at TIMESTAMPTZ'}}, {'title': {'type': 'NOW(),\\n    title'}}, {'landing_page': {'type': 'NOT NULL,\\n    landing_page'}}], 'election': ['id', {'created_at': {'type': 'KEY,\\n    created_at TIMESTAMPTZ'}}, {'updated_at': {'type': 'NOW(),\\n    updated_at TIMESTAMPTZ'}}, {'title': {'type': 'NOW(),\\n    title'}}], 'issue': ['id', {'created_at': {'type': 'KEY,\\n    created_at TIMESTAMPTZ'}}, {'updated_at': {'type': 'NOW(),\\n    updated_at TIMESTAMPTZ'}}, {'title': {'type': 'NOW(),\\n    title'}}, {'election': {'type': 'NOT NULL,\\n    election'}}], 'candidate': ['id', {'created_at': {'type': 'KEY,\\n    created_at TIMESTAMPTZ'}}, {'updated_at': {'type': 'NOW(),\\n    updated_at TIMESTAMPTZ'}}, {'election': {'type': 'NOW(),\\n    election'}}], 'district_type': ['id', {'created_at': {'type': 'KEY,\\n    created_at TIMESTAMPTZ'}}, {'updated_at': {'type': 'NOW(),\\n    updated_at TIMESTAMPTZ'}}, {'title': {'type': 'NOW(),\\n    title'}}], 'district': ['id', {'created_at': {'type': 'KEY,\\n    created_at TIMESTAMPTZ'}}, {'updated_at': {'type': 'NOW(),\\n    updated_at TIMESTAMPTZ'}}, {'geom': {'type': 'NOW(),\\n    geom'}}, {'title': {'type': 'geometry(Polygon,\\n    28992),\\n    title'}}, {'district_type': {'type': 'NOT NULL,\\n    district_type'}}], 'office': ['id', {'created_at': {'type': 'KEY,\\n    created_at TIMESTAMPTZ'}}, {'updated_at': {'type': 'NOW(),\\n    updated_at TIMESTAMPTZ'}}, {'title': {'type': 'NOW(),\\n    title'}}, {'election': {'type': 'NOT NULL,\\n    election'}}], 'petition': ['id', {'created_at': {'type': 'KEY,\\n    created_at TIMESTAMPTZ'}}, {'updated_at': {'type': 'NOW(),\\n    updated_at TIMESTAMPTZ'}}, {'title': {'type': 'NOW(),\\n    title'}}], 'poll': ['id', {'created_at': {'type': 'KEY,\\n    created_at TIMESTAMPTZ'}}, {'updated_at': {'type': 'NOW(),\\n    updated_at TIMESTAMPTZ'}}, {'title': {'type': 'NOW(),\\n    title'}}], 'volunteer_opportunity_type': ['id', {'created_at': {'type': 'KEY,\\n    created_at TIMESTAMPTZ'}}, {'updated_at': {'type': 'NOW(),\\n    updated_at TIMESTAMPTZ'}}, {'title': {'type': 'NOW(),\\n    title'}}], 'volunteer_opportunity': ['id', {'created_at': {'type': 'KEY,\\n    created_at TIMESTAMPTZ'}}, {'updated_at': {'type': 'NOW(),\\n    updated_at TIMESTAMPTZ'}}, {'title': {'type': 'NOW(),\\n    title'}}, {'election_type': {'type': 'NOT NULL,\\n    election_type'}}], 'live_event_type': ['id', {'created_at': {'type': 'KEY,\\n    created_at TIMESTAMPTZ'}}, {'updated_at': {'type': 'NOW(),\\n    updated_at TIMESTAMPTZ'}}, {'title': {'type': 'NOW(),\\n    title'}}], 'live_event': ['id', {'created_at': {'type': 'KEY,\\n    created_at TIMESTAMPTZ'}}, {'updated_at': {'type': 'NOW(),\\n    updated_at TIMESTAMPTZ'}}, {'title': {'type': 'NOW(),\\n    title'}}, {'live_event_type': {'type': 'NOT NULL,\\n    live_event_type'}}], 'boycott': ['id', {'created_at': {'type': 'KEY,\\n    created_at TIMESTAMPTZ'}}, {'updated_at': {'type': 'NOW(),\\n    updated_at TIMESTAMPTZ'}}, {'title': {'type': 'NOW(),\\n    title'}}], 'company': ['id', {'created_at': {'type': 'KEY,\\n    created_at TIMESTAMPTZ'}}, {'updated_at': {'type': 'NOW(),\\n    updated_at TIMESTAMPTZ'}}, {'title': {'type': 'NOW(),\\n    title'}}], 'product_type': ['id', {'created_at': {'type': 'KEY,\\n    created_at TIMESTAMPTZ'}}, {'updated_at': {'type': 'NOW(),\\n    updated_at TIMESTAMPTZ'}}, {'title': {'type': 'NOW(),\\n    title'}}], 'product': ['id', {'created_at': {'type': 'KEY,\\n    created_at TIMESTAMPTZ'}}, {'updated_at': {'type': 'NOW(),\\n    updated_at TIMESTAMPTZ'}}, {'title': {'type': 'NOW(),\\n    title'}}, {'product_type': {'type': 'NOT NULL,\\n    product_type'}}], 'donation_campaign': ['id', {'created_at': {'type': 'KEY,\\n    created_at TIMESTAMPTZ'}}, {'updated_at': {'type': 'NOW(),\\n    updated_at TIMESTAMPTZ'}}, {'title': {'type': 'NOW(),\\n    title'}}], 'customer_cart': ['id', {'created_at': {'type': 'KEY,\\n    created_at'}}, {'updated_at': {'type': 'NOT NULL,\\n    updated_at'}}], 'customer_order': ['id', {'created_at': {'type': 'KEY,\\n    created_at TIMESTAMPTZ'}}, {'updated_at': {'type': 'NOW(),\\n    updated_at TIMESTAMPTZ'}}, {'customer_cart': {'type': 'NOW(),\\n    customer_cart'}}], 'payment': ['id', {'created_at': {'type': 'KEY,\\n    created_at TIMESTAMPTZ'}}, {'updated_at': {'type': 'NOW(),\\n    updated_at TIMESTAMPTZ'}}, {'customer_order': {'type': 'NOW(),\\n    customer_order'}}], 'delivery': ['id', {'created_at': {'type': 'KEY,\\n    created_at'}}, {'updated_at': {'type': 'NOT NULL,\\n    updated_at'}}], 'boycott_membership': ['id', {'created_at': {'type': 'KEY,\\n    created_at TIMESTAMPTZ'}}, {'updated_at': {'type': 'NOW(),\\n    updated_at TIMESTAMPTZ'}}, {'cause': {'type': 'NOW(),\\n    cause'}}, {'boycott': {'type': 'NOT NULL,\\n    boycott'}}], 'election_membership': ['id', {'created_at': {'type': 'KEY,\\n    created_at TIMESTAMPTZ'}}, {'updated_at': {'type': 'NOW(),\\n    updated_at TIMESTAMPTZ'}}, {'cause': {'type': 'NOW(),\\n    cause'}}, {'election': {'type': 'NOT NULL,\\n    election'}}], 'petition_membership': ['id', {'created_at': {'type': 'KEY,\\n    created_at TIMESTAMPTZ'}}, {'updated_at': {'type': 'NOW(),\\n    updated_at TIMESTAMPTZ'}}, {'cause': {'type': 'NOW(),\\n    cause'}}, {'petition': {'type': 'NOT NULL,\\n    petition'}}], 'poll_membership': ['id', {'created_at': {'type': 'KEY,\\n    created_at TIMESTAMPTZ'}}, {'updated_at': {'type': 'NOW(),\\n    updated_at TIMESTAMPTZ'}}, {'cause': {'type': 'NOW(),\\n    cause'}}, {'petition': {'type': 'NOT NULL,\\n    petition'}}], 'volunteer_opportunity_membership': ['id', {'created_at': {'type': 'KEY,\\n    created_at TIMESTAMPTZ'}}, {'updated_at': {'type': 'NOW(),\\n    updated_at TIMESTAMPTZ'}}, {'cause': {'type': 'NOW(),\\n    cause'}}, {'volunteer_opportunity': {'type': 'NOT NULL,\\n    volunteer_opportunity'}}], 'live_event_membership': ['id', {'created_at': {'type': 'KEY,\\n    created_at TIMESTAMPTZ'}}, {'updated_at': {'type': 'NOW(),\\n    updated_at TIMESTAMPTZ'}}, {'cause': {'type': 'NOW(),\\n    cause'}}, {'live_event': {'type': 'NOT NULL,\\n    live_event'}}], 'product_membership': ['id', {'created_at': {'type': 'KEY,\\n    created_at TIMESTAMPTZ'}}, {'updated_at': {'type': 'NOW(),\\n    updated_at TIMESTAMPTZ'}}, {'cause': {'type': 'NOW(),\\n    cause'}}, {'product': {'type': 'NOT NULL,\\n    product'}}], 'donation_campaign_membership': ['id', {'created_at': {'type': 'KEY,\\n    created_at TIMESTAMPTZ'}}, {'updated_at': {'type': 'NOW(),\\n    updated_at TIMESTAMPTZ'}}, {'cause': {'type': 'NOW(),\\n    cause'}}, {'donation_campaign': {'type': 'NOT NULL,\\n    donation_campaign'}}], 'contact': ['id', {'created_at': {'type': 'KEY,\\n    created_at'}}, {'updated_at': {'type': 'NOT NULL,\\n    updated_at'}}], 'petition_signer': ['id', {'created_at': {'type': 'KEY,\\n    created_at TIMESTAMPTZ'}}, {'updated_at': {'type': 'NOW(),\\n    updated_at TIMESTAMPTZ'}}, {'petition': {'type': 'NOW(),\\n    petition'}}, {'contact': {'type': 'NOT NULL,\\n    contact'}}, {'cause': {'type': 'NOT NULL,\\n    cause'}}], 'poll_respondant': ['id', {'created_at': {'type': 'KEY,\\n    created_at TIMESTAMPTZ'}}, {'updated_at': {'type': 'NOW(),\\n    updated_at TIMESTAMPTZ'}}, {'poll': {'type': 'NOW(),\\n    poll'}}, {'contact': {'type': 'NOT NULL,\\n    contact'}}, {'cause': {'type': 'NOT NULL,\\n    cause'}}], 'purchaser': ['id', {'created_at': {'type': 'KEY,\\n    created_at TIMESTAMPTZ'}}, {'updated_at': {'type': 'NOW(),\\n    updated_at TIMESTAMPTZ'}}, {'customer_order': {'type': 'NOW(),\\n    customer_order'}}, {'contact': {'type': 'NOT NULL,\\n    contact'}}, {'cause': {'type': 'NOT NULL,\\n    cause'}}], 'donor': ['id', {'created_at': {'type': 'KEY,\\n    created_at TIMESTAMPTZ'}}, {'updated_at': {'type': 'NOW(),\\n    updated_at TIMESTAMPTZ'}}, {'customer_order': {'type': 'NOW(),\\n    customer_order'}}, {'contact': {'type': 'NOT NULL,\\n    contact'}}, {'cause': {'type': 'NOT NULL,\\n    cause'}}], 'event_attendee': ['id', {'created_at': {'type': 'KEY,\\n    created_at TIMESTAMPTZ'}}, {'updated_at': {'type': 'NOW(),\\n    updated_at TIMESTAMPTZ'}}, {'live_event': {'type': 'NOW(),\\n    live_event'}}, {'contact': {'type': 'NOT NULL,\\n    contact'}}, {'cause': {'type': 'NOT NULL,\\n    cause'}}], 'voter': ['id', {'created_at': {'type': 'KEY,\\n    created_at TIMESTAMPTZ'}}, {'updated_at': {'type': 'NOW(),\\n    updated_at TIMESTAMPTZ'}}, {'contact': {'type': 'NOW(),\\n    contact'}}, {'cause': {'type': 'NOT NULL,\\n    cause'}}], 'volunteer': ['id', {'created_at': {'type': 'KEY,\\n    created_at TIMESTAMPTZ'}}, {'updated_at': {'type': 'NOW(),\\n    updated_at TIMESTAMPTZ'}}, {'volunteer_opportunity': {'type': 'NOW(),\\n    volunteer_opportunity'}}, {'contact': {'type': 'NOT NULL,\\n    contact'}}, {'cause': {'type': 'NOT NULL,\\n    cause'}}], 'follower': ['id', {'created_at': {'type': 'KEY,\\n    created_at TIMESTAMPTZ'}}, {'updated_at': {'type': 'NOW(),\\n    updated_at TIMESTAMPTZ'}}, {'contact': {'type': 'NOW(),\\n    contact'}}, {'cause': {'type': 'NOT NULL,\\n    cause'}}], 'agent': ['id', {'created_at': {'type': 'KEY,\\n    created_at TIMESTAMPTZ'}}, {'updated_at': {'type': 'NOW(),\\n    updated_at TIMESTAMPTZ'}}, {'account': {'type': 'NOW(),\\n    account'}}], 'territory': ['id', {'created_at': {'type': 'KEY,\\n    created_at TIMESTAMPTZ'}}, {'updated_at': {'type': 'NOW(),\\n    updated_at TIMESTAMPTZ'}}, {'title': {'type': 'NOW(),\\n    title'}}], 'activity_type': ['id', {'created_at': {'type': 'KEY,\\n    created_at TIMESTAMPTZ'}}, {'updated_at': {'type': 'NOW(),\\n    updated_at TIMESTAMPTZ'}}, {'title': {'type': 'NOW(),\\n    title'}}], 'activity': ['id', {'created_at': {'type': 'KEY,\\n    created_at TIMESTAMPTZ'}}, {'updated_at': {'type': 'NOW(),\\n    updated_at TIMESTAMPTZ'}}, {'title': {'type': 'NOW(),\\n    title'}}, {'activity_type': {'type': 'NOT NULL,\\n    activity_type'}}, {'contact': {'type': 'NOT NULL,\\n    contact'}}, {'cause': {'type': 'NOT NULL,\\n    cause'}}], 'note': ['id', {'created_at': {'type': 'KEY,\\n    created_at TIMESTAMPTZ'}}, {'updated_at': {'type': 'NOW(),\\n    updated_at TIMESTAMPTZ'}}, {'contact': {'type': 'NOW(),\\n    contact'}}, {'cause': {'type': 'NOT NULL,\\n    cause'}}], 'owner_membership': ['id', {'created_at': {'type': 'KEY,\\n    created_at TIMESTAMPTZ'}}, {'updated_at': {'type': 'NOW(),\\n    updated_at TIMESTAMPTZ'}}, {'cause': {'type': 'NOW(),\\n    cause'}}, {'account': {'type': 'NOT NULL,\\n    account'}}], 'contact_membership': ['id', {'created_at': {'type': 'KEY,\\n    created_at TIMESTAMPTZ'}}, {'updated_at': {'type': 'NOW(),\\n    updated_at TIMESTAMPTZ'}}, {'cause': {'type': 'NOW(),\\n    cause'}}, {'contact': {'type': 'NOT NULL,\\n    contact'}}], 'agent_membership': ['id', {'created_at': {'type': 'KEY,\\n    created_at TIMESTAMPTZ'}}, {'updated_at': {'type': 'NOW(),\\n    updated_at TIMESTAMPTZ'}}, {'cause': {'type': 'NOW(),\\n    cause'}}, {'agent': {'type': 'NOT NULL,\\n    agent'}}]}\n"
     ]
    }
   ],
   "source": [
    "print(\"Number of tables:\", len(tables))\n",
    "print(tables)"
   ]
  },
  {
   "cell_type": "code",
   "execution_count": null,
   "metadata": {},
   "outputs": [],
   "source": []
  },
  {
   "cell_type": "code",
   "execution_count": null,
   "metadata": {},
   "outputs": [],
   "source": []
  }
 ],
 "metadata": {
  "kernelspec": {
   "display_name": "Python 3",
   "language": "python",
   "name": "python3"
  },
  "language_info": {
   "codemirror_mode": {
    "name": "ipython",
    "version": 3
   },
   "file_extension": ".py",
   "mimetype": "text/x-python",
   "name": "python",
   "nbconvert_exporter": "python",
   "pygments_lexer": "ipython3",
   "version": "3.6.1"
  }
 },
 "nbformat": 4,
 "nbformat_minor": 2
}
