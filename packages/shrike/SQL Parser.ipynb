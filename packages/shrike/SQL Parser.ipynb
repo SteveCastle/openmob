{
 "cells": [
  {
   "cell_type": "code",
   "execution_count": 81,
   "metadata": {},
   "outputs": [],
   "source": [
    "import sqlparse\n",
    "with open('migrations/1_initial.sql', 'r') as myfile:\n",
    "  data = myfile.read()\n",
    "\n",
    "split_sql = sqlparse.split(data)"
   ]
  },
  {
   "cell_type": "code",
   "execution_count": 188,
   "metadata": {},
   "outputs": [],
   "source": [
    "tables = {}\n",
    "for statement in split_sql:\n",
    "    parsed = sqlparse.parse(statement)[0]\n",
    "    statement_type = parsed.get_type()\n",
    "    if statement_type == \"CREATE\":\n",
    "        current_table = \"\"\n",
    "        for token in parsed.tokens:\n",
    "            if type(token) is sqlparse.sql.Identifier:\n",
    "                current_table = token.value\n",
    "                tables[token.value] = []\n",
    "            if type(token) is sqlparse.sql.Parenthesis:\n",
    "                for field in token:\n",
    "                    if type(field) is sqlparse.sql.Identifier:\n",
    "                        tables[current_table].append(field.value)\n",
    "                    if type(field) is sqlparse.sql.IdentifierList:\n",
    "                        for subfield in field:\n",
    "                            if type(subfield) is sqlparse.sql.Identifier:\n",
    "                                field_name = subfield.value.split(\" \")[0]\n",
    "                                tables[current_table].append(field_name)"
   ]
  },
  {
   "cell_type": "code",
   "execution_count": 189,
   "metadata": {},
   "outputs": [
    {
     "name": "stdout",
     "output_type": "stream",
     "text": [
      "Number of tables: 64\n",
      "{'cause': ['id', 'created_at', 'updated_at', 'title'], 'account': ['id', 'created_at', 'updated_at', 'username'], 'acl': ['id'], 'mailing_address': ['id', 'created_at', 'updated_at', 'street_address', 'city', 'state', 'zip_code'], 'phone_number': ['id', 'created_at', 'updated_at', 'phone_number'], 'email_address': ['id', 'created_at', 'updated_at', 'address'], 'photo': ['id', 'created_at', 'updated_at', 'img_url'], 'layout_type': ['id', 'created_at', 'updated_at', 'title'], 'layout': ['id', 'created_at', 'updated_at', 'layout_type'], 'layout_row': ['id', 'created_at', 'updated_at', 'layout'], 'layout_column': ['id', 'created_at', 'updated_at', 'layout_row'], 'component_implementation': ['id', 'created_at', 'updated_at'], 'component_type': ['id', 'created_at', 'updated_at', 'title'], 'component': ['id', 'created_at', 'updated_at', 'component_type', 'layout_column'], 'field_type': ['id', 'created_at', 'updated_at', 'title'], 'field': ['id', 'created_at', 'updated_at', 'field_type', 'component'], 'landing_page': ['id', 'created_at', 'updated_at', 'title', 'layout'], 'experiment': ['id', 'created_at', 'updated_at', 'title', 'landing_page'], 'election': ['id', 'created_at', 'updated_at', 'title'], 'issue': ['id', 'created_at', 'updated_at', 'title', 'election'], 'candidate': ['id', 'created_at', 'updated_at', 'election'], 'district_type': ['id', 'created_at', 'updated_at', 'title'], 'district': ['id', 'created_at', 'updated_at', 'geom', 'title', 'district_type'], 'office': ['id', 'created_at', 'updated_at', 'title', 'election'], 'petition': ['id', 'created_at', 'updated_at', 'title'], 'poll': ['id', 'created_at', 'updated_at', 'title'], 'volunteer_opportunity_type': ['id', 'created_at', 'updated_at', 'title'], 'volunteer_opportunity': ['id', 'created_at', 'updated_at', 'title', 'election_type'], 'live_event_type': ['id', 'created_at', 'updated_at', 'title'], 'live_event': ['id', 'created_at', 'updated_at', 'title', 'live_event_type'], 'boycott': ['id', 'created_at', 'updated_at', 'title'], 'company': ['id', 'created_at', 'updated_at', 'title'], 'product_type': ['id', 'created_at', 'updated_at', 'title'], 'product': ['id', 'created_at', 'updated_at', 'title', 'product_type'], 'donation_campaign': ['id', 'created_at', 'updated_at', 'title'], 'customer_cart': ['id', 'created_at', 'updated_at'], 'customer_order': ['id', 'created_at', 'updated_at', 'customer_cart'], 'payment': ['id', 'created_at', 'updated_at', 'customer_order'], 'delivery': ['id', 'created_at', 'updated_at'], 'boycott_membership': ['id', 'created_at', 'updated_at', 'cause', 'boycott'], 'election_membership': ['id', 'created_at', 'updated_at', 'cause', 'election'], 'petition_membership': ['id', 'created_at', 'updated_at', 'cause', 'petition'], 'poll_membership': ['id', 'created_at', 'updated_at', 'cause', 'petition'], 'volunteer_opportunity_membership': ['id', 'created_at', 'updated_at', 'cause', 'volunteer_opportunity'], 'live_event_membership': ['id', 'created_at', 'updated_at', 'cause', 'live_event'], 'product_membership': ['id', 'created_at', 'updated_at', 'cause', 'product'], 'donation_campaign_membership': ['id', 'created_at', 'updated_at', 'cause', 'donation_campaign'], 'contact': ['id', 'created_at', 'updated_at'], 'petition_signer': ['id', 'created_at', 'updated_at', 'petition', 'contact', 'cause'], 'poll_respondant': ['id', 'created_at', 'updated_at', 'poll', 'contact', 'cause'], 'purchaser': ['id', 'created_at', 'updated_at', 'customer_order', 'contact', 'cause'], 'donor': ['id', 'created_at', 'updated_at', 'customer_order', 'contact', 'cause'], 'event_attendee': ['id', 'created_at', 'updated_at', 'live_event', 'contact', 'cause'], 'voter': ['id', 'created_at', 'updated_at', 'contact', 'cause'], 'volunteer': ['id', 'created_at', 'updated_at', 'volunteer_opportunity', 'contact', 'cause'], 'follower': ['id', 'created_at', 'updated_at', 'contact', 'cause'], 'agent': ['id', 'created_at', 'updated_at', 'account'], 'territory': ['id', 'created_at', 'updated_at', 'title'], 'activity_type': ['id', 'created_at', 'updated_at', 'title'], 'activity': ['id', 'created_at', 'updated_at', 'title', 'activity_type', 'contact', 'cause'], 'note': ['id', 'created_at', 'updated_at', 'contact', 'cause'], 'owner_membership': ['id', 'created_at', 'updated_at', 'cause', 'account'], 'contact_membership': ['id', 'created_at', 'updated_at', 'cause', 'contact'], 'agent_membership': ['id', 'created_at', 'updated_at', 'cause', 'agent']}\n"
     ]
    }
   ],
   "source": [
    "print(\"Number of tables:\", len(tables))\n",
    "print(tables)"
   ]
  },
  {
   "cell_type": "code",
   "execution_count": null,
   "metadata": {},
   "outputs": [],
   "source": []
  },
  {
   "cell_type": "code",
   "execution_count": null,
   "metadata": {},
   "outputs": [],
   "source": []
  }
 ],
 "metadata": {
  "kernelspec": {
   "display_name": "Python 3",
   "language": "python",
   "name": "python3"
  },
  "language_info": {
   "codemirror_mode": {
    "name": "ipython",
    "version": 3
   },
   "file_extension": ".py",
   "mimetype": "text/x-python",
   "name": "python",
   "nbconvert_exporter": "python",
   "pygments_lexer": "ipython3",
   "version": "3.6.1"
  }
 },
 "nbformat": 4,
 "nbformat_minor": 2
}
